{
 "cells": [
  {
   "metadata": {
    "ExecuteTime": {
     "end_time": "2024-11-03T20:35:05.856844Z",
     "start_time": "2024-11-03T20:35:05.850432Z"
    }
   },
   "cell_type": "code",
   "source": [
    "import mujoco\n",
    "import os\n",
    "import mediapy as media\n",
    "import numpy as np"
   ],
   "id": "b99839e53bba865b",
   "outputs": [],
   "execution_count": 11
  },
  {
   "metadata": {
    "ExecuteTime": {
     "end_time": "2024-11-03T20:35:05.871192Z",
     "start_time": "2024-11-03T20:35:05.865003Z"
    }
   },
   "cell_type": "code",
   "source": [
    "model = mujoco.MjModel.from_xml_path('/home/simba/projects/thesis/mujoco_test/point_mass.xml')\n",
    "data = mujoco.MjData(model)\n",
    "\n",
    "Kp = 10.0  \n",
    "Ki = 0.5   \n",
    "Kd = 1.0 \n",
    "\n",
    "setpoint = np.array([1.0, 0.0, 1.0])\n",
    "\n",
    "integral_error = np.zeros(3)\n",
    "previous_error = np.zeros(3)\n",
    "dt = model.opt.timestep "
   ],
   "id": "3d0d9337c8c1dd51",
   "outputs": [],
   "execution_count": 12
  },
  {
   "metadata": {
    "ExecuteTime": {
     "end_time": "2024-11-03T20:35:06.059074Z",
     "start_time": "2024-11-03T20:35:05.924261Z"
    }
   },
   "cell_type": "code",
   "source": [
    "with mujoco.Renderer(model) as renderer:\n",
    "    \n",
    "    current_position = data.xpos[model.body(\"point_mass\").id]\n",
    "    error = setpoint - current_position\n",
    "    integral_error += error * dt\n",
    "    derivative_error = (error - previous_error) / dt\n",
    "    previous_error = error\n",
    "    \n",
    "    control_force = Kp * error + Ki * integral_error + Kd * derivative_error\n",
    "    \n",
    "    data.xfrc_applied[model.body(\"point_mass\").id][:3] = control_force\n",
    "    \n",
    "       \n",
    "    mujoco.mj_forward(model, data)\n",
    "    renderer.update_scene(data)\n",
    "\n",
    "    media.show_image(renderer.render())"
   ],
   "id": "e9c71db1cf0d3dfc",
   "outputs": [
    {
     "data": {
      "text/plain": [
       "<IPython.core.display.HTML object>"
      ],
      "text/html": [
       "<table class=\"show_images\" style=\"border-spacing:0px;\"><tr><td style=\"padding:1px;\"><img width=\"320\" height=\"240\" style=\"image-rendering:auto; object-fit:cover;\" src=\"data:image/png;base64,iVBORw0KGgoAAAANSUhEUgAAAUAAAADwCAIAAAD+Tyo8AAAFUElEQVR4nO3bwWpb6R3G4VeSLduxMyRjo1BaKHSTTe4gu1zArHu12eUOvPF+YODUqjOJE8eSLHVhPHRdPIj39Hk4iyPQ4g/ix3c+9J3JL//8JUCn6b4HAP53AoZiAoZiAoZiAoZiAoZiAoZiAoZiAoZiAoZiAoZiAoZiAoZiAoZiAoZiAoZiAoZiAoZiAoZiAoZiAoZiAoZiAoZiAoZiAoZiAoZiAoZiAoZiB/segD/RdrieJNtktrjY9yz8KQQ8QtvLq1xenT39uptktTi/W1wcvnu758l4bgIem4ePn14Ny5Nk/rRB2iarYXk3LL8M15MP7/c8H8/KHnhUdh8/vR6Wp8lpcvJf11nyU/JqWG4/ftr3jDwnAY/Ht4+fToflcXKczJPDZJ4cTSZ/3J8kZ8Py4fJq35PybAQ8Eqvh+mRYHiRHyTyZJYeTycl8fnZy8mI+P0gOksPkKJlcXv0Yrvc9L89DwCPx/fLqIHnx9HE6mZwcH7958+anly/n8/lsOp0+NTxPJsNyn7PyfAQ8EofJLHlIZsk0mU6nR8fH09ns1evXs4OD2Ww2SZLskmmytgKPhYBH4vuwTLJLdsk6mc5mk+n05MWLH6tVJpP7h4dNsnn68p0VeCz8jTQS22SS3CeHyTRZPTx8vr3NdLper3//+nW9222Tx+sh2e57Wp6LgEditji/HZbzZJVMk912u1qt7m9uJsl6u33Y7VbJOlklq+Rwcb7veXkeHqFH4nBxsUp+JI+Pyqvdbr3b3W023zeb1W53/1TvfXKX3O57Wp6LFXgkZovzmyRP2+DDZJ0cJLtk87Qx/pF8Tr4mPztTORZW4JE4W1ycvnv7NfmW3CaPN4/XffI9+T25Se6S1eL8zLsNY2EFHo+f3739dbj+Miw3yVFykMySPJ6FTu6T22S7OP+749AjYgUelb99eH+7OB+SfyVfkn8nN8nn5HNyk9wvzv+q3nGxAo/NPz68/zZcX19e/TYskzy+D7xJLt69/Yut7+gIeIROFxenHy6+Ph23emnHO14CHi3d/j+wB4ZiAoZiAoZiAoZiAoZiAoZiAoZiAoZiAoZiAoZiAoZiAoZiAoZiAoZiAoZiAoZiAoZiAoZiAoZiAoZiAoZiAoZiAoZiAoZiAoZiAoZiAoZiAoZiAoZiAoZiAoZiAoZiAoZiAoZiAoZiAoZiAoZiAoZiAoZiAoZiAoZiAoZiAoZiAoZiAoZiAoZiAoZiAoZiAoZiAoZiAoZiAoZiAoZiAoZiAoZiAoZiAoZiAoZiAoZiAoZiAoZiAoZiAoZiAoZiAoZiAoZiAoZiAoZiAoZiAoZiAoZiAoZiAoZiAoZiAoZiAoZiAoZiAoZiAoZiAoZiAoZiAoZiAoZiAoZiAoZiAoZiAoZiAoZiAoZiAoZiAoZiAoZiAoZiAoZiAoZiAoZiAoZiAoZiAoZiAoZiAoZiAoZiAoZiAoZiAoZiAoZiAoZiAoZiAoZiAoZiAoZiAoZiAoZiAoZiAoZiAoZiAoZiAoZiAoZiAoZiAoZiAoZiAoZiAoZiAoZiAoZiAoZiAoZiAoZiAoZiAoZiAoZiAoZiAoZiAoZiAoZiAoZiAoZiAoZiAoZiAoZiAoZiAoZiAoZiAoZiAoZiAoZiAoZiAoZiAoZiAoZiAoZiAoZiAoZiAoZiAoZiAoZiAoZiAoZiAoZiAoZiAoZiAoZiAoZiAoZiAoZiAoZiAoZiAoZiAoZiAoZiAoZiAoZiAoZiAoZiAoZiAoZiAoZiAoZiAoZiAoZiAoZiAoZiAoZiAoZiAoZiAoZiAoZiAoZiAoZiAoZiAoZi/wHtC9jZOF1ZagAAAABJRU5ErkJggg==\"/></td></tr></table>"
      ]
     },
     "metadata": {},
     "output_type": "display_data"
    }
   ],
   "execution_count": 13
  }
 ],
 "metadata": {
  "kernelspec": {
   "display_name": "Python 3",
   "language": "python",
   "name": "python3"
  },
  "language_info": {
   "codemirror_mode": {
    "name": "ipython",
    "version": 2
   },
   "file_extension": ".py",
   "mimetype": "text/x-python",
   "name": "python",
   "nbconvert_exporter": "python",
   "pygments_lexer": "ipython2",
   "version": "2.7.6"
  }
 },
 "nbformat": 4,
 "nbformat_minor": 5
}
